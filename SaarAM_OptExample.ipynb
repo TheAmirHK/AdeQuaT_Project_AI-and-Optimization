{
  "nbformat": 4,
  "nbformat_minor": 0,
  "metadata": {
    "colab": {
      "provenance": [],
      "authorship_tag": "ABX9TyNdBqs+1DGLySGtCEmv/LuW",
      "include_colab_link": true
    },
    "kernelspec": {
      "name": "python3",
      "display_name": "Python 3"
    },
    "language_info": {
      "name": "python"
    }
  },
  "cells": [
    {
      "cell_type": "markdown",
      "metadata": {
        "id": "view-in-github",
        "colab_type": "text"
      },
      "source": [
        "<a href=\"https://colab.research.google.com/github/TheAmirHK/AdeQuaT_Project_AI-and-Optimization/blob/main/SaarAM_OptExample.ipynb\" target=\"_parent\"><img src=\"https://colab.research.google.com/assets/colab-badge.svg\" alt=\"Open In Colab\"/></a>"
      ]
    },
    {
      "cell_type": "code",
      "execution_count": 333,
      "metadata": {
        "colab": {
          "base_uri": "https://localhost:8080/"
        },
        "id": "v0OgpMplTLxF",
        "outputId": "f501c775-f56a-4f64-d428-57b64ddc0482"
      },
      "outputs": [
        {
          "output_type": "stream",
          "name": "stdout",
          "text": [
            "Requirement already satisfied: pyomo in /usr/local/lib/python3.11/dist-packages (6.8.2)\n",
            "Requirement already satisfied: ply in /usr/local/lib/python3.11/dist-packages (from pyomo) (3.11)\n"
          ]
        }
      ],
      "source": [
        "!pip install pyomo\n",
        "from pyomo.environ import *\n",
        "import matplotlib.pyplot as plt\n",
        "import numpy as np\n",
        "!wget -N -q \"https://matematica.unipv.it/gualandi/solvers/ipopt-linux64.zip\"\n",
        "!unzip -o -q ipopt-linux64\n",
        "\n",
        "!apt-get install -y -qq glpk-utils\n",
        "\n",
        "import warnings\n",
        "\n",
        "# Suppress all warnings\n",
        "warnings.filterwarnings(\"ignore\")"
      ]
    },
    {
      "cell_type": "code",
      "source": [
        "# Define model\n",
        "model = ConcreteModel()"
      ],
      "metadata": {
        "id": "Q9lCtk_tTZ6Q"
      },
      "execution_count": 743,
      "outputs": []
    },
    {
      "cell_type": "code",
      "source": [
        "# In[rail condition\n",
        "np.random.seed(0)\n",
        "rail_length = 29 # in meters\n",
        "measurement_portion = 1 # measurement unit is 10 cm\n",
        "defect_rate = 0.005 # some random number\n",
        "vector_length = rail_length * measurement_portion # the length of the rail is discretized into units of measurement 115(m) * 10(cm) = 1150. so i would have a vector of zeroes and ones with the length of 1150.\n",
        "\n",
        "def generate_defect_vector(length,defect_rate):\n",
        "    num_ones = int(defect_rate * length)\n",
        "    vector = np.zeros(length, dtype=int)\n",
        "    indices = np.random.choice(length, size=num_ones, replace=False)\n",
        "    vector[indices] = 1\n",
        "    return vector\n",
        "\n",
        "#defect_vector = generate_defect_vector(vector_length, defect_rate)\n",
        "defect_vector =  (0,0,0,0,0,1,0,0,0,0,0,0,0,0,0,0,0,0,0,1,0,0,0,0,1,0,0,0,0)\n",
        "defect_vector2 = (0,1,0,0,0,0,0,0,0,0,0,0,0,0,0,0,0,0,0,0,0,0,0,0,0,0,0,1,0)\n",
        "\n",
        "defect_indices = np.where(np.array(defect_vector) == 1)[0]\n",
        "defect_indices = np.concatenate(([0], defect_indices, [len(defect_vector)]))"
      ],
      "metadata": {
        "id": "HJ7jhwyMTuRQ"
      },
      "execution_count": 744,
      "outputs": []
    },
    {
      "cell_type": "code",
      "source": [
        "# In[this is a first plot of the rail. only with purpose of illustration][TO BE DELETED !!!]\n",
        "def plot_rail(defect_vector, dim_vector, measurment_portion=1):\n",
        "    length = len(defect_vector) / measurment_portion\n",
        "    fig, ax = plt.subplots(figsize=(12, 2))\n",
        "\n",
        "    ax.plot([0, length], [0, 0], color='black', linewidth=2, label='Rail')\n",
        "\n",
        "    defect_indices = np.where(np.array(defect_vector) == 1)[0]\n",
        "    dim_indicies = np.where(np.array(dim_vector) == 1)[0]\n",
        "    defect_positions = defect_indices / measurement_portion\n",
        "    dim_positions = dim_indicies / measurement_portion\n",
        "\n",
        "    for pos1 in defect_positions:\n",
        "        ax.plot(pos1, 0, 'ro', markersize=5, label='Defect' if pos1 == defect_positions[0] else \"\")\n",
        "\n",
        "    for pos2 in dim_positions:\n",
        "        ax.plot(pos2, 0, 'bo', markersize=5, label='Dim' if pos2 == dim_positions[0] else \"\")\n",
        "\n",
        "\n",
        "    ax.set_xlabel('Rail Position')\n",
        "    ax.set_ylabel('')\n",
        "    ax.set_title('Rail with Defect Locations')\n",
        "    ax.set_yticks([])\n",
        "    ax.set_xlim(0, length)\n",
        "    ax.set_ylim(-0.1, 0.1)\n",
        "    ax.set_xticks(np.arange(0, length + 1, 1))\n",
        "    ax.legend()\n",
        "    plt.tight_layout()\n",
        "    plt.show()\n",
        "\n",
        "plot_rail(defect_vector, defect_vector2)"
      ],
      "metadata": {
        "colab": {
          "base_uri": "https://localhost:8080/",
          "height": 207
        },
        "id": "9McjY98JnKWd",
        "outputId": "67619fb0-d4ac-4170-98a8-fb347b42aacc"
      },
      "execution_count": 745,
      "outputs": [
        {
          "output_type": "display_data",
          "data": {
            "text/plain": [
              "<Figure size 1200x200 with 1 Axes>"
            ],
            "image/png": "[encoded data removed]"
          },
          "metadata": {}
        }
      ]
    },
    {
      "cell_type": "code",
      "source": [
        "# In[dataset]\n",
        "# Sets\n",
        "L = range(rail_length)\n",
        "\n",
        "# Parameters\n",
        "patterns = [2, 3]\n",
        "P = range(len(patterns))"
      ],
      "metadata": {
        "id": "GmdLn-nFTfd5"
      },
      "execution_count": 746,
      "outputs": []
    },
    {
      "cell_type": "code",
      "source": [
        "model.pert = Var(range(len(defect_indices)-1), within=NonNegativeReals)\n",
        "\n",
        "model.coup = Var(P,L, within=NonNegativeIntegers)"
      ],
      "metadata": {
        "id": "6xfz5mQlUhMY"
      },
      "execution_count": 747,
      "outputs": []
    },
    {
      "cell_type": "code",
      "source": [
        "def cost_rule(m):\n",
        "    return sum(patterns[p]*model.coup[p,l] for p in P for l in L)\n",
        "model.cost = Objective(rule=cost_rule, sense=maximize)\n",
        "\n",
        "\"\"\"def cost_rule(m):\n",
        "    return sum(model.pert[i] for i in range(len(defect_indices)-1))\n",
        "model.cost = Objective(rule=cost_rule, sense=minimize)\"\"\"\n",
        "\n",
        "\n",
        "# constraints\n",
        "model.cut = ConstraintList()\n",
        "for i in range(len(defect_indices) - 1):\n",
        "    start_index = defect_indices[i]\n",
        "    end_index = defect_indices[i + 1]\n",
        "    for l in range(end_index - start_index):\n",
        "        model.cut.add( sum( patterns[p] * model.coup[p,l + start_index ] for p in P) <= end_index - start_index - l )\n",
        "for l in L:\n",
        "  for p in P:\n",
        "    model.cut.add(model.coup[p,l] <= ((1 - defect_vector[l]) * (1 - defect_vector2[l]) )*10)"
      ],
      "metadata": {
        "id": "-a422LLTVOgI"
      },
      "execution_count": 748,
      "outputs": []
    },
    {
      "cell_type": "code",
      "source": [
        "\"\"\"for i in range(len(defect_indices) - 1):\n",
        "\n",
        "    start_index = defect_indices[i]\n",
        "    end_index = defect_indices[i + 1]\n",
        "    model.cut.add( (end_index - start_index) - sum( patterns[p] * model.coup[p,l + start_index ] for p in P for l in range(end_index - start_index))  >= model.pert[i])\"\"\""
      ],
      "metadata": {
        "colab": {
          "base_uri": "https://localhost:8080/",
          "height": 55
        },
        "id": "jVhjGTanvF6A",
        "outputId": "2c350954-8b46-4b8c-915c-582ddbb36f3d"
      },
      "execution_count": 749,
      "outputs": [
        {
          "output_type": "execute_result",
          "data": {
            "text/plain": [
              "'for i in range(len(defect_indices) - 1):\\n\\n    start_index = defect_indices[i]\\n    end_index = defect_indices[i + 1]\\n    model.cut.add( (end_index - start_index) - sum( patterns[p] * model.coup[p,l + start_index ] for p in P for l in range(end_index - start_index))  >= model.pert[i])'"
            ],
            "application/vnd.google.colaboratory.intrinsic+json": {
              "type": "string"
            }
          },
          "metadata": {},
          "execution_count": 749
        }
      ]
    },
    {
      "cell_type": "code",
      "source": [
        "solver = SolverFactory('glpk', executable='/usr/bin/glpsol')\n",
        "results = solver.solve(model,tee = False)\n",
        "results.write()"
      ],
      "metadata": {
        "id": "xO1qJ_9cZ-qJ"
      },
      "execution_count": null,
      "outputs": []
    },
    {
      "cell_type": "code",
      "source": [
        "for p in P:\n",
        "  for l in L:\n",
        "    if model.coup[p,l].value > 0:\n",
        "      print(f\"model.coup[{p},{l}]: {model.coup[p,l].value}\")"
      ],
      "metadata": {
        "colab": {
          "base_uri": "https://localhost:8080/"
        },
        "id": "AC8kCU7raPfX",
        "outputId": "fb0b58cc-4869-4fd2-f4e9-334d81a496c7"
      },
      "execution_count": 751,
      "outputs": [
        {
          "output_type": "stream",
          "name": "stdout",
          "text": [
            "model.coup[0,0]: 1.0\n",
            "model.coup[0,3]: 1.0\n",
            "model.coup[0,6]: 2.0\n",
            "model.coup[0,8]: 1.0\n",
            "model.coup[0,9]: 2.0\n",
            "model.coup[0,11]: 1.0\n",
            "model.coup[0,12]: 2.0\n",
            "model.coup[0,14]: 1.0\n",
            "model.coup[0,15]: 2.0\n",
            "model.coup[0,17]: 1.0\n",
            "model.coup[0,20]: 2.0\n",
            "model.coup[0,22]: 1.0\n",
            "model.coup[0,25]: 2.0\n",
            "model.coup[1,0]: 1.0\n",
            "model.coup[1,2]: 1.0\n",
            "model.coup[1,6]: 3.0\n",
            "model.coup[1,7]: 4.0\n",
            "model.coup[1,8]: 3.0\n",
            "model.coup[1,9]: 2.0\n",
            "model.coup[1,10]: 3.0\n",
            "model.coup[1,11]: 2.0\n",
            "model.coup[1,12]: 1.0\n",
            "model.coup[1,13]: 2.0\n",
            "model.coup[1,14]: 1.0\n",
            "model.coup[1,16]: 1.0\n",
            "model.coup[1,21]: 1.0\n",
            "model.coup[1,26]: 1.0\n"
          ]
        }
      ]
    }
  ]
}